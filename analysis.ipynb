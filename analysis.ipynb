{
 "cells": [
  {
   "cell_type": "markdown",
   "metadata": {},
   "source": [
    "# Analysis and Visulaization"
   ]
  },
  {
   "cell_type": "code",
   "execution_count": null,
   "metadata": {},
   "outputs": [],
   "source": []
  },
  {
   "cell_type": "markdown",
   "metadata": {},
   "source": [
    "Now that the data has been cleaned, null values imputed, outliers removed etc, it is far easier to analyse the data correctly\n"
   ]
  },
  {
   "cell_type": "markdown",
   "metadata": {},
   "source": [
    "## Necessary imports"
   ]
  },
  {
   "cell_type": "code",
   "execution_count": 4,
   "metadata": {},
   "outputs": [],
   "source": [
    "import pandas as pd\n",
    "\n",
    "#importing my classes\n",
    "from dataFrameInfo import Data_FrameInfo\n",
    "from data_Transform import DataTransform\n",
    "from dataFrameTransform import Data_FrameTransform\n",
    "from plotter import Plotter\n",
    "\n",
    "#importing dataframes\n",
    "df = pd.read_csv('dfnonulls.csv')\n",
    "normalised = pd.read_csv('dfnoskew.csv')\n",
    "\n",
    "#instantiating classes\n",
    "transform = DataTransform()\n",
    "query = Data_FrameInfo()\n",
    "visual = Plotter(df)\n"
   ]
  },
  {
   "cell_type": "markdown",
   "metadata": {},
   "source": [
    "## Current state of the loans"
   ]
  },
  {
   "cell_type": "markdown",
   "metadata": {},
   "source": [
    "### Working out percentage of loans fully recovered"
   ]
  },
  {
   "cell_type": "markdown",
   "metadata": {},
   "source": [
    "In this section, I will suummarise what percentage of the loans have been currently recovered compared to the total amount to be paid over the loans term including interest.\n",
    "\n",
    "Additionally I will calculate how much will be paid back in 6 months time with interest and visualise my results."
   ]
  },
  {
   "cell_type": "markdown",
   "metadata": {},
   "source": [
    "#### Current position"
   ]
  },
  {
   "cell_type": "markdown",
   "metadata": {},
   "source": [
    "In order to assess this, I need to calculate the following:\n",
    "\n",
    "1) The amount of money actually recovered. This will be simply the total payments\n",
    "2) The amount of money that would be recovered if everyone paid in full. This will be the amount of installments * the amount of each installment"
   ]
  },
  {
   "cell_type": "code",
   "execution_count": 10,
   "metadata": {},
   "outputs": [
    {
     "name": "stdout",
     "output_type": "stream",
     "text": [
      "The % funded amount recovered is: 70.61%\n",
      "The % invested amount recovered is: 68.92%\n"
     ]
    }
   ],
   "source": [
    "#calculate totals recovered by funded amount and by investor\n",
    "total_recovered_fun = df['total_payment'].sum()\n",
    "total_recovered_inv = df['total_payment_inv'].sum()\n",
    "\n",
    "#calculate totals expected by funded amount and by investor\n",
    "df['total_expected'] = df['instalment'] * df['term(mths)']\n",
    "total_expected = df['total_expected'].sum()\n",
    "\n",
    "#print percentages by funded amount and by investor\n",
    "pct_recovered_fun = round(total_recovered_fun/total_expected*100, 2)\n",
    "pct_recovered_inv = round(total_recovered_inv/total_expected*100, 2)\n",
    "print(f'The % funded amount recovered is: {pct_recovered_fun}%')\n",
    "print(f'The % invested amount recovered is: {pct_recovered_inv}%')"
   ]
  },
  {
   "cell_type": "code",
   "execution_count": 11,
   "metadata": {},
   "outputs": [
    {
     "ename": "KeyError",
     "evalue": "'Funding'",
     "output_type": "error",
     "traceback": [
      "\u001b[0;31m---------------------------------------------------------------------------\u001b[0m",
      "\u001b[0;31mKeyError\u001b[0m                                  Traceback (most recent call last)",
      "File \u001b[0;32m~/AICore_work/exploratory-data-analysis---customer-loans-in-finance152/exploratory_data_analysis/lib/python3.9/site-packages/pandas/core/indexes/base.py:3791\u001b[0m, in \u001b[0;36mIndex.get_loc\u001b[0;34m(self, key)\u001b[0m\n\u001b[1;32m   3790\u001b[0m \u001b[38;5;28;01mtry\u001b[39;00m:\n\u001b[0;32m-> 3791\u001b[0m     \u001b[38;5;28;01mreturn\u001b[39;00m \u001b[38;5;28;43mself\u001b[39;49m\u001b[38;5;241;43m.\u001b[39;49m\u001b[43m_engine\u001b[49m\u001b[38;5;241;43m.\u001b[39;49m\u001b[43mget_loc\u001b[49m\u001b[43m(\u001b[49m\u001b[43mcasted_key\u001b[49m\u001b[43m)\u001b[49m\n\u001b[1;32m   3792\u001b[0m \u001b[38;5;28;01mexcept\u001b[39;00m \u001b[38;5;167;01mKeyError\u001b[39;00m \u001b[38;5;28;01mas\u001b[39;00m err:\n",
      "File \u001b[0;32mindex.pyx:152\u001b[0m, in \u001b[0;36mpandas._libs.index.IndexEngine.get_loc\u001b[0;34m()\u001b[0m\n",
      "File \u001b[0;32mindex.pyx:181\u001b[0m, in \u001b[0;36mpandas._libs.index.IndexEngine.get_loc\u001b[0;34m()\u001b[0m\n",
      "File \u001b[0;32mpandas/_libs/hashtable_class_helper.pxi:7080\u001b[0m, in \u001b[0;36mpandas._libs.hashtable.PyObjectHashTable.get_item\u001b[0;34m()\u001b[0m\n",
      "File \u001b[0;32mpandas/_libs/hashtable_class_helper.pxi:7088\u001b[0m, in \u001b[0;36mpandas._libs.hashtable.PyObjectHashTable.get_item\u001b[0;34m()\u001b[0m\n",
      "\u001b[0;31mKeyError\u001b[0m: 'Funding'",
      "\nThe above exception was the direct cause of the following exception:\n",
      "\u001b[0;31mKeyError\u001b[0m                                  Traceback (most recent call last)",
      "Cell \u001b[0;32mIn[11], line 1\u001b[0m\n\u001b[0;32m----> 1\u001b[0m \u001b[43mdf\u001b[49m\u001b[38;5;241;43m.\u001b[39;49m\u001b[43mplot\u001b[49m\u001b[43m(\u001b[49m\u001b[43mx\u001b[49m\u001b[38;5;241;43m=\u001b[39;49m\u001b[38;5;124;43m\"\u001b[39;49m\u001b[38;5;124;43mFunding\u001b[39;49m\u001b[38;5;124;43m\"\u001b[39;49m\u001b[43m,\u001b[49m\u001b[43m \u001b[49m\u001b[43my\u001b[49m\u001b[38;5;241;43m=\u001b[39;49m\u001b[38;5;124;43m\"\u001b[39;49m\u001b[38;5;124;43mPercent\u001b[39;49m\u001b[38;5;124;43m\"\u001b[39;49m\u001b[43m,\u001b[49m\u001b[43m \u001b[49m\u001b[43mkind\u001b[49m\u001b[38;5;241;43m=\u001b[39;49m\u001b[38;5;124;43m\"\u001b[39;49m\u001b[38;5;124;43mbar\u001b[39;49m\u001b[38;5;124;43m\"\u001b[39;49m\u001b[43m,\u001b[49m\u001b[43m \u001b[49m\u001b[43mylabel\u001b[49m\u001b[38;5;241;43m=\u001b[39;49m\u001b[38;5;124;43m\"\u001b[39;49m\u001b[38;5;124;43m%\u001b[39;49m\u001b[38;5;124;43m Recovered\u001b[39;49m\u001b[38;5;124;43m\"\u001b[39;49m\u001b[43m)\u001b[49m \n",
      "File \u001b[0;32m~/AICore_work/exploratory-data-analysis---customer-loans-in-finance152/exploratory_data_analysis/lib/python3.9/site-packages/pandas/plotting/_core.py:996\u001b[0m, in \u001b[0;36mPlotAccessor.__call__\u001b[0;34m(self, *args, **kwargs)\u001b[0m\n\u001b[1;32m    994\u001b[0m \u001b[38;5;28;01mif\u001b[39;00m is_integer(x) \u001b[38;5;129;01mand\u001b[39;00m \u001b[38;5;129;01mnot\u001b[39;00m data\u001b[38;5;241m.\u001b[39mcolumns\u001b[38;5;241m.\u001b[39m_holds_integer():\n\u001b[1;32m    995\u001b[0m     x \u001b[38;5;241m=\u001b[39m data_cols[x]\n\u001b[0;32m--> 996\u001b[0m \u001b[38;5;28;01melif\u001b[39;00m \u001b[38;5;129;01mnot\u001b[39;00m \u001b[38;5;28misinstance\u001b[39m(\u001b[43mdata\u001b[49m\u001b[43m[\u001b[49m\u001b[43mx\u001b[49m\u001b[43m]\u001b[49m, ABCSeries):\n\u001b[1;32m    997\u001b[0m     \u001b[38;5;28;01mraise\u001b[39;00m \u001b[38;5;167;01mValueError\u001b[39;00m(\u001b[38;5;124m\"\u001b[39m\u001b[38;5;124mx must be a label or position\u001b[39m\u001b[38;5;124m\"\u001b[39m)\n\u001b[1;32m    998\u001b[0m data \u001b[38;5;241m=\u001b[39m data\u001b[38;5;241m.\u001b[39mset_index(x)\n",
      "File \u001b[0;32m~/AICore_work/exploratory-data-analysis---customer-loans-in-finance152/exploratory_data_analysis/lib/python3.9/site-packages/pandas/core/frame.py:3893\u001b[0m, in \u001b[0;36mDataFrame.__getitem__\u001b[0;34m(self, key)\u001b[0m\n\u001b[1;32m   3891\u001b[0m \u001b[38;5;28;01mif\u001b[39;00m \u001b[38;5;28mself\u001b[39m\u001b[38;5;241m.\u001b[39mcolumns\u001b[38;5;241m.\u001b[39mnlevels \u001b[38;5;241m>\u001b[39m \u001b[38;5;241m1\u001b[39m:\n\u001b[1;32m   3892\u001b[0m     \u001b[38;5;28;01mreturn\u001b[39;00m \u001b[38;5;28mself\u001b[39m\u001b[38;5;241m.\u001b[39m_getitem_multilevel(key)\n\u001b[0;32m-> 3893\u001b[0m indexer \u001b[38;5;241m=\u001b[39m \u001b[38;5;28;43mself\u001b[39;49m\u001b[38;5;241;43m.\u001b[39;49m\u001b[43mcolumns\u001b[49m\u001b[38;5;241;43m.\u001b[39;49m\u001b[43mget_loc\u001b[49m\u001b[43m(\u001b[49m\u001b[43mkey\u001b[49m\u001b[43m)\u001b[49m\n\u001b[1;32m   3894\u001b[0m \u001b[38;5;28;01mif\u001b[39;00m is_integer(indexer):\n\u001b[1;32m   3895\u001b[0m     indexer \u001b[38;5;241m=\u001b[39m [indexer]\n",
      "File \u001b[0;32m~/AICore_work/exploratory-data-analysis---customer-loans-in-finance152/exploratory_data_analysis/lib/python3.9/site-packages/pandas/core/indexes/base.py:3798\u001b[0m, in \u001b[0;36mIndex.get_loc\u001b[0;34m(self, key)\u001b[0m\n\u001b[1;32m   3793\u001b[0m     \u001b[38;5;28;01mif\u001b[39;00m \u001b[38;5;28misinstance\u001b[39m(casted_key, \u001b[38;5;28mslice\u001b[39m) \u001b[38;5;129;01mor\u001b[39;00m (\n\u001b[1;32m   3794\u001b[0m         \u001b[38;5;28misinstance\u001b[39m(casted_key, abc\u001b[38;5;241m.\u001b[39mIterable)\n\u001b[1;32m   3795\u001b[0m         \u001b[38;5;129;01mand\u001b[39;00m \u001b[38;5;28many\u001b[39m(\u001b[38;5;28misinstance\u001b[39m(x, \u001b[38;5;28mslice\u001b[39m) \u001b[38;5;28;01mfor\u001b[39;00m x \u001b[38;5;129;01min\u001b[39;00m casted_key)\n\u001b[1;32m   3796\u001b[0m     ):\n\u001b[1;32m   3797\u001b[0m         \u001b[38;5;28;01mraise\u001b[39;00m InvalidIndexError(key)\n\u001b[0;32m-> 3798\u001b[0m     \u001b[38;5;28;01mraise\u001b[39;00m \u001b[38;5;167;01mKeyError\u001b[39;00m(key) \u001b[38;5;28;01mfrom\u001b[39;00m \u001b[38;5;21;01merr\u001b[39;00m\n\u001b[1;32m   3799\u001b[0m \u001b[38;5;28;01mexcept\u001b[39;00m \u001b[38;5;167;01mTypeError\u001b[39;00m:\n\u001b[1;32m   3800\u001b[0m     \u001b[38;5;66;03m# If we have a listlike key, _check_indexing_error will raise\u001b[39;00m\n\u001b[1;32m   3801\u001b[0m     \u001b[38;5;66;03m#  InvalidIndexError. Otherwise we fall through and re-raise\u001b[39;00m\n\u001b[1;32m   3802\u001b[0m     \u001b[38;5;66;03m#  the TypeError.\u001b[39;00m\n\u001b[1;32m   3803\u001b[0m     \u001b[38;5;28mself\u001b[39m\u001b[38;5;241m.\u001b[39m_check_indexing_error(key)\n",
      "\u001b[0;31mKeyError\u001b[0m: 'Funding'"
     ]
    }
   ],
   "source": [
    "df.plot(x=\"Funding\", y=\"Percent\", kind=\"bar\", ylabel=\"% Recovered\") "
   ]
  },
  {
   "cell_type": "markdown",
   "metadata": {},
   "source": [
    "This indicates that 70% of the money expected to be paid over the full term has been recovered. I will further analyse this by "
   ]
  },
  {
   "cell_type": "markdown",
   "metadata": {},
   "source": [
    "# Sums of values for for calculation of percentages.\n",
    "cur_sum = df_cur[['funded_amount_inv', 'total_payment_inv', 'funded_amount', 'total_payment']].sum()\n",
    "cur_sum"
   ]
  },
  {
   "cell_type": "markdown",
   "metadata": {},
   "source": [
    "#### Position  in 6 months"
   ]
  },
  {
   "cell_type": "markdown",
   "metadata": {},
   "source": [
    "For this, any fully paid loans and charged off loans need to be excluded from consideration. Only those current loans and (potentially) those in default not yet charged off are going to bring in more money."
   ]
  },
  {
   "cell_type": "code",
   "execution_count": null,
   "metadata": {},
   "outputs": [],
   "source": []
  },
  {
   "cell_type": "code",
   "execution_count": 5,
   "metadata": {},
   "outputs": [
    {
     "name": "stdout",
     "output_type": "stream",
     "text": [
      "       Unnamed: 0        id  member_id  loan_amount  funded_amount  \\\n",
      "0               0   8588502   10330306         5000         5000.0   \n",
      "4               4   8148555    4640566        12000        12000.0   \n",
      "6               6   8977266   10779272        10000        10000.0   \n",
      "11             11   8629345   10401156         4375         4375.0   \n",
      "12             12  38361412   41145143         4000         4000.0   \n",
      "...           ...       ...        ...          ...            ...   \n",
      "54213       54213   7055315    8717456        11400        11400.0   \n",
      "54214       54214   7049426    8711455         7800         7800.0   \n",
      "54215       54215   6805066    8427208        16000        16000.0   \n",
      "54222       54222   8627224   10399185         7200         7200.0   \n",
      "54223       54223   8148232    9890178        12000        12000.0   \n",
      "\n",
      "       funded_amount_inv  term(mths)  int_rate  instalment grade  ...  \\\n",
      "0                 5000.0        36.0      7.90      156.46     A  ...   \n",
      "4                12000.0        36.0     13.98      410.02     C  ...   \n",
      "6                10000.0        36.0     13.67      340.18     B  ...   \n",
      "11                4375.0        36.0     13.67      148.83     B  ...   \n",
      "12                4000.0        36.0      6.99      123.50     A  ...   \n",
      "...                  ...         ...       ...         ...   ...  ...   \n",
      "54213            11350.0        60.0     16.78      281.98     C  ...   \n",
      "54214             7800.0        36.0     21.00      293.87     E  ...   \n",
      "54215            16000.0        36.0     18.85      585.29     D  ...   \n",
      "54222             7200.0        36.0     17.10      257.06     C  ...   \n",
      "54223            12000.0        36.0     10.99      392.81     B  ...   \n",
      "\n",
      "      total_rec_int total_rec_late_fee recoveries  collection_recovery_fee  \\\n",
      "0            576.93                0.0        0.0                      0.0   \n",
      "4           2460.41                0.0        0.0                      0.0   \n",
      "6           2002.67                0.0        0.0                      0.0   \n",
      "11           880.11                0.0        0.0                      0.0   \n",
      "12           237.21                0.0        0.0                      0.0   \n",
      "...             ...                ...        ...                      ...   \n",
      "54213       3725.46                0.0        0.0                      0.0   \n",
      "54214       2561.45                0.0        0.0                      0.0   \n",
      "54215       4754.28                0.0        0.0                      0.0   \n",
      "54222       1863.41                0.0        0.0                      0.0   \n",
      "54223       1950.25                0.0        0.0                      0.0   \n",
      "\n",
      "      last_payment_date last_payment_amount last_credit_pull_date  \\\n",
      "0            2022-01-01              156.46            2022-01-01   \n",
      "4            2022-01-01              410.02            2022-01-01   \n",
      "6            2022-01-01              340.18            2022-01-01   \n",
      "11           2022-01-01              148.83            2022-01-01   \n",
      "12           2022-01-01              123.50            2022-01-01   \n",
      "...                 ...                 ...                   ...   \n",
      "54213        2022-01-01              281.98            2022-01-01   \n",
      "54214        2021-12-01              293.87            2022-01-01   \n",
      "54215        2022-01-01              585.29            2022-01-01   \n",
      "54222        2022-01-01              257.06            2022-01-01   \n",
      "54223        2022-01-01              392.81            2022-01-01   \n",
      "\n",
      "       collections_12_mths_ex_med policy_code  application_type  \n",
      "0                             0.0           1        INDIVIDUAL  \n",
      "4                             0.0           1        INDIVIDUAL  \n",
      "6                             0.0           1        INDIVIDUAL  \n",
      "11                            0.0           1        INDIVIDUAL  \n",
      "12                            0.0           1        INDIVIDUAL  \n",
      "...                           ...         ...               ...  \n",
      "54213                         1.0           1        INDIVIDUAL  \n",
      "54214                         1.0           1        INDIVIDUAL  \n",
      "54215                         1.0           1        INDIVIDUAL  \n",
      "54222                         2.0           1        INDIVIDUAL  \n",
      "54223                         2.0           1        INDIVIDUAL  \n",
      "\n",
      "[19268 rows x 40 columns]\n"
     ]
    }
   ],
   "source": [
    "rows_to_consider = df.loc[df['loan_status'] == \"Current\"]\n",
    "print(rows_to_consider)"
   ]
  },
  {
   "cell_type": "code",
   "execution_count": null,
   "metadata": {},
   "outputs": [],
   "source": []
  }
 ],
 "metadata": {
  "kernelspec": {
   "display_name": "exploratory_data_analysis",
   "language": "python",
   "name": "python3"
  },
  "language_info": {
   "codemirror_mode": {
    "name": "ipython",
    "version": 3
   },
   "file_extension": ".py",
   "mimetype": "text/x-python",
   "name": "python",
   "nbconvert_exporter": "python",
   "pygments_lexer": "ipython3",
   "version": "3.9.12"
  }
 },
 "nbformat": 4,
 "nbformat_minor": 2
}
